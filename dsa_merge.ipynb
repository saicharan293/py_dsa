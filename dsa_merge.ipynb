{
 "cells": [
  {
   "cell_type": "code",
   "execution_count": 1,
   "id": "ab44094a-f10a-42be-997f-e4337b6bc485",
   "metadata": {},
   "outputs": [
    {
     "name": "stdout",
     "output_type": "stream",
     "text": [
      "merge using concatenation [1, 2, 3, 4, 5, 6]\n"
     ]
    }
   ],
   "source": [
    "a = [1, 2, 3]\n",
    "b = [4, 5, 6]\n",
    "c= a + b\n",
    "print('merge using concatenation',c)"
   ]
  },
  {
   "cell_type": "code",
   "execution_count": 2,
   "id": "dbf30ace-6e65-449e-b85a-cf13b2d84930",
   "metadata": {},
   "outputs": [],
   "source": [
    "a = [1, 2, 3]\n",
    "b = [4, 5, 6]\n",
    "a.extend(b)"
   ]
  },
  {
   "cell_type": "code",
   "execution_count": 3,
   "id": "fa06a8f8-7729-44f6-81ed-4eff04107df1",
   "metadata": {},
   "outputs": [
    {
     "name": "stdout",
     "output_type": "stream",
     "text": [
      "merge using extend [1, 2, 3, 4, 5, 6]\n"
     ]
    }
   ],
   "source": [
    "print('merge using extend',a)"
   ]
  },
  {
   "cell_type": "code",
   "execution_count": 6,
   "id": "12c72f99-3ed2-4cd6-8033-1976c075ff62",
   "metadata": {},
   "outputs": [
    {
     "name": "stdout",
     "output_type": "stream",
     "text": [
      "merge using unpacking (*) [1, 2, 3, 4, 5, 6]\n"
     ]
    }
   ],
   "source": [
    "a = [1, 2, 3]\n",
    "b = [4, 5, 6]\n",
    "c=[*a,*b]\n",
    "print('merge using unpacking (*)',c)"
   ]
  },
  {
   "cell_type": "code",
   "execution_count": 7,
   "id": "3bc1627b-d083-4553-aa82-33dbf2c71989",
   "metadata": {},
   "outputs": [],
   "source": [
    "a = [1, 2, 3]\n",
    "b = [4, 5, 6]"
   ]
  },
  {
   "cell_type": "code",
   "execution_count": 11,
   "id": "8406310c-859f-4616-bfbe-65a100e2717a",
   "metadata": {},
   "outputs": [
    {
     "name": "stdout",
     "output_type": "stream",
     "text": [
      "merge using for loop [1, 2, 3, 4, 5, 6]\n"
     ]
    }
   ],
   "source": [
    "a = [1, 2, 3]\n",
    "b = [4, 5, 6]\n",
    "c=[]\n",
    "for val in a:\n",
    "    c.append(val)\n",
    "# print(c)\n",
    "for val in b:\n",
    "    c.append(val)\n",
    "print('merge using for loop',c)"
   ]
  },
  {
   "cell_type": "code",
   "execution_count": 13,
   "id": "bbb11356-41f4-4e78-8067-6e8dcc9eb199",
   "metadata": {},
   "outputs": [
    {
     "name": "stdout",
     "output_type": "stream",
     "text": [
      "merge using list comprehension + concatenation [1, 2, 3, 4, 5, 6]\n"
     ]
    }
   ],
   "source": [
    "a = [1, 2, 3]\n",
    "b = [4, 5, 6]\n",
    "c=[ val for val in a] + [val for val in b]\n",
    "print('merge using list comprehension + concatenation',c)"
   ]
  },
  {
   "cell_type": "code",
   "execution_count": 14,
   "id": "44a71a65-cf00-4e59-b491-f1b034fd979c",
   "metadata": {},
   "outputs": [
    {
     "name": "stdout",
     "output_type": "stream",
     "text": [
      "merge using chain [1, 2, 3, 4, 5, 6]\n"
     ]
    }
   ],
   "source": [
    "from itertools import chain\n",
    "a = [1, 2, 3]\n",
    "b = [4, 5, 6]\n",
    "c=list(chain(a,b))\n",
    "print('merge using chain',c)"
   ]
  }
 ],
 "metadata": {
  "kernelspec": {
   "display_name": "Python 3 (ipykernel)",
   "language": "python",
   "name": "python3"
  },
  "language_info": {
   "codemirror_mode": {
    "name": "ipython",
    "version": 3
   },
   "file_extension": ".py",
   "mimetype": "text/x-python",
   "name": "python",
   "nbconvert_exporter": "python",
   "pygments_lexer": "ipython3",
   "version": "3.11.7"
  }
 },
 "nbformat": 4,
 "nbformat_minor": 5
}
