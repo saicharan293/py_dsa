{
 "cells": [
  {
   "cell_type": "code",
   "execution_count": 3,
   "id": "d6794fcd-3d3e-4df3-956f-8e74ad150692",
   "metadata": {},
   "outputs": [
    {
     "name": "stdout",
     "output_type": "stream",
     "text": [
      "Element is at index 2\n"
     ]
    }
   ],
   "source": [
    "def search(a, x, N):\n",
    "    for i in range(N):\n",
    "        if(a[i] == x):\n",
    "            return i\n",
    "    return -1\n",
    "\n",
    "if __name__ == \"__main__\":\n",
    "    a = [2, 3, 4, 10, 40]\n",
    "    x = 4\n",
    "    N = len(a)\n",
    "    result = search(a, x, N)\n",
    "    if(result == -1):\n",
    "        print(\"Element is not in array\")\n",
    "    else:\n",
    "        print(\"Element is at index\",result)\n",
    "\n",
    "# Time Complexity:\n",
    "# Best case: element is at index 1 => O(1)\n",
    "# Worst case : element is at index -1 => O(N)\n",
    "# Average: O(N)"
   ]
  },
  {
   "cell_type": "code",
   "execution_count": 5,
   "id": "d216b5d5-85c1-4acc-b30c-a4cecb09f21c",
   "metadata": {},
   "outputs": [
    {
     "name": "stdout",
     "output_type": "stream",
     "text": [
      "largest number is  9808\n"
     ]
    }
   ],
   "source": [
    "def max_num(arr, n):\n",
    "    mx = arr[0]\n",
    "\n",
    "    for i in range(n):\n",
    "        if arr[i] > mx:\n",
    "            mx = arr[i]\n",
    "    return mx\n",
    "\n",
    "if __name__ == '__main__':\n",
    "    arr = [10, 324, 45, 90, 9808]\n",
    "    n = len(arr)\n",
    "    largest = max_num(arr,n)\n",
    "    print('largest number is ',largest)"
   ]
  },
  {
   "cell_type": "code",
   "execution_count": 4,
   "id": "2035f90f-8397-4e2b-9946-5b615adee2dc",
   "metadata": {},
   "outputs": [
    {
     "name": "stdout",
     "output_type": "stream",
     "text": [
      "second largest element - using sort 34\n"
     ]
    }
   ],
   "source": [
    "def getSecondLargest(arr):\n",
    "    n=len(arr)\n",
    "    arr.sort()\n",
    "    for i in range(n - 2, -1, -1):\n",
    "        if arr[i] != arr[n - 1]:\n",
    "            return arr[i]\n",
    "    return -1\n",
    "\n",
    "if __name__ == \"__main__\":\n",
    "    arr = [12, 35, 35, 1, 10, 34, 1, 35]\n",
    "    print('second largest element - using sort',getSecondLargest(arr))\n",
    "    \n",
    "# Time complexity: O(n*logn)\n",
    "# Space complexity: O(1), no extra space is required"
   ]
  },
  {
   "cell_type": "code",
   "execution_count": 10,
   "id": "c7cb3ba1-06d2-42b2-b93a-bdc8786bcc4c",
   "metadata": {},
   "outputs": [
    {
     "name": "stdout",
     "output_type": "stream",
     "text": [
      "second largest element - using two pass search: 34\n"
     ]
    }
   ],
   "source": [
    "def getSecondLargest(arr):\n",
    "    n=len(arr)\n",
    "    largest = max(arr)\n",
    "    secondLargest = -1\n",
    "    for _ in range(n - 1):\n",
    "        if arr[_] > secondLargest and arr[_] != largest:\n",
    "            secondLargest = arr[_]\n",
    "    return secondLargest\n",
    "            \n",
    "\n",
    "if __name__ == \"__main__\":\n",
    "    arr = [12, 35, 1, 10, 34, 1, 35]\n",
    "    print('second largest element - using two pass search:',getSecondLargest(arr))\n",
    "\n",
    "# Time Complexity= O(n)\n",
    "# Space Complexity = O(1)\n"
   ]
  },
  {
   "cell_type": "code",
   "execution_count": 11,
   "id": "09ecc631-b633-4214-8d65-9ba94b95ebc2",
   "metadata": {},
   "outputs": [
    {
     "name": "stdout",
     "output_type": "stream",
     "text": [
      "second largest element - using one pass search 34\n"
     ]
    }
   ],
   "source": [
    "def getSecondLargest(arr):\n",
    "    largest = -1\n",
    "    secondLargest = -1\n",
    "    for _ in range(len(arr) - 1):\n",
    "        if(arr[_] > largest):\n",
    "            secondLargest = largest\n",
    "            largest = arr[_]\n",
    "        elif(arr[_] < largest and arr[_] > secondLargest):\n",
    "            secondLargest = arr[_]\n",
    "    return secondLargest\n",
    "            \n",
    "\n",
    "if __name__ == \"__main__\":\n",
    "    arr = [12, 35, 1, 10, 34, 1]\n",
    "    print('second largest element - using one pass search',getSecondLargest(arr))\n",
    "# Time complexity = O(n)\n",
    "# Space Complexity = O(1)"
   ]
  },
  {
   "cell_type": "code",
   "execution_count": 15,
   "id": "380da9ac-cc1b-4f19-83e2-248a03a357ee",
   "metadata": {},
   "outputs": [
    {
     "name": "stdout",
     "output_type": "stream",
     "text": [
      "3 distinc largest numbers are: 35 34 13\n"
     ]
    }
   ],
   "source": [
    "#3 distinct largest elements in the array\n",
    "\n",
    "def print3largest(arr):\n",
    "    n=len(arr)\n",
    "    first = second = third = float('-inf')\n",
    "    for _ in range(n):\n",
    "        if arr[_] > first:\n",
    "            third = second\n",
    "            second = first\n",
    "            first = arr[_]\n",
    "        elif arr[_] > second and arr[_] != first:\n",
    "            third = second\n",
    "            second = arr[_]\n",
    "        elif arr[_] > third and arr[_] != second and arr[_] != first: \n",
    "            third = arr[_]\n",
    "\n",
    "    print('3 distinc largest numbers are:',first, second, third)\n",
    "            \n",
    "\n",
    "arr = [12, 13, 1, 10, 34, 11, 34, 35]\n",
    "print3largest(arr)\n",
    "\n",
    "# Time Complexity = O(n)\n",
    "# Space Complexity = O(1)"
   ]
  },
  {
   "cell_type": "code",
   "execution_count": 22,
   "id": "711543a6-50ea-40ed-8fce-a3a61cc936cc",
   "metadata": {},
   "outputs": [
    {
     "name": "stdout",
     "output_type": "stream",
     "text": [
      "Array Leaders - Nested loops 17 5 2\n"
     ]
    }
   ],
   "source": [
    "# Leaders in an array\n",
    "def leaders(arr):\n",
    "    results=[]\n",
    "    n=len(arr)\n",
    "    for i in range(n):\n",
    "        for j in range(i+1,n):\n",
    "            if arr[i]<arr[j]:\n",
    "                break\n",
    "        else:\n",
    "            results.append(arr[i])\n",
    "    return results\n",
    "\n",
    "if __name__ == \"__main__\":\n",
    "    arr = [16, 17, 4, 3, 5, 2]\n",
    "    result = leaders(arr)\n",
    "    print(\"Array Leaders - Nested loops\",\" \".join(map(str, result)))\n",
    "# Time Complexity = O(n^2)\n",
    "# Space Complexity = O(1)"
   ]
  },
  {
   "cell_type": "code",
   "execution_count": 25,
   "id": "a80f721e-c799-4502-8ebd-55cc2946a867",
   "metadata": {},
   "outputs": [
    {
     "name": "stdout",
     "output_type": "stream",
     "text": [
      "Array Leaders - Suffix max 17 5 2\n"
     ]
    }
   ],
   "source": [
    "def leaders(arr):\n",
    "    results = []\n",
    "    n=len(arr)\n",
    "    max_right = arr[-1]\n",
    "    results.append(max_right)\n",
    "\n",
    "    for i in range(n - 2, -1, -1):\n",
    "        if arr[i] > max_right:\n",
    "            max_right = arr[i]\n",
    "            results.append(max_right)\n",
    "    results.reverse()\n",
    "    return results\n",
    "\n",
    "if __name__ == \"__main__\":\n",
    "    arr = [16, 17, 4, 3, 5, 2]\n",
    "    result = leaders(arr)\n",
    "    print(\"Array Leaders - Suffix max\",\" \".join(map(str, result)))\n",
    "\n",
    "# Time Complexity = O(n)\n",
    "# Space Complexity = O(1)"
   ]
  },
  {
   "cell_type": "code",
   "execution_count": null,
   "id": "8c2dd75b-25e7-46c5-a301-e2064480271e",
   "metadata": {},
   "outputs": [],
   "source": []
  }
 ],
 "metadata": {
  "kernelspec": {
   "display_name": "Python 3 (ipykernel)",
   "language": "python",
   "name": "python3"
  },
  "language_info": {
   "codemirror_mode": {
    "name": "ipython",
    "version": 3
   },
   "file_extension": ".py",
   "mimetype": "text/x-python",
   "name": "python",
   "nbconvert_exporter": "python",
   "pygments_lexer": "ipython3",
   "version": "3.11.7"
  }
 },
 "nbformat": 4,
 "nbformat_minor": 5
}
